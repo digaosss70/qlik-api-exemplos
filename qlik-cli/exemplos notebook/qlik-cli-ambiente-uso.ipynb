{
 "cells": [
  {
   "cell_type": "code",
   "execution_count": 0,
   "metadata": {
    "application/vnd.databricks.v1+cell": {
     "cellMetadata": {
      "byteLimit": 2048000,
      "rowLimit": 10000
     },
     "inputWidgets": {},
     "nuid": "428938e4-3aa2-4c63-89f0-9b34eaeb84c0",
     "showTitle": false,
     "tableResultSettingsMap": {},
     "title": ""
    }
   },
   "outputs": [],
   "source": [
    "\n",
    "%sh\n",
    "temp_folder=\"/tmp/qlik\"\n",
    "\n",
    "HOST='https://meuhost.us.qlikcloud.com'\n",
    "API_KEY='minha_chave'\n",
    "\n",
    "rm -rf $temp_folder && mkdir -p $temp_folder\n",
    "cd $temp_folder\n",
    "\n",
    "sudo apt-get update\n",
    "sudo apt-get install -y jq\n",
    "\n",
    "# Passo 1: Baixar o arquivo qlik-Linux-x86_64.tar.gz do GitHub\n",
    "wget https://github.com/qlik-oss/qlik-cli/releases/download/v2.26.0/qlik-Linux-x86_64.tar.gz -O qlik-Linux-x86_64.tar.gz\n",
    "\n",
    "# Passo 2: Descompactar o arquivo\n",
    "tar -xvf qlik-Linux-x86_64.tar.gz\n",
    "\n",
    "sudo mv qlik /usr/local/bin/\n",
    "\n",
    "qlik context create SGBR --server $HOST --api-key $API_KEY\n",
    "qlik context use SGBR\n",
    "qlik app ls >> teste2.txt"
   ]
  },
  {
   "cell_type": "code",
   "execution_count": 0,
   "metadata": {
    "application/vnd.databricks.v1+cell": {
     "cellMetadata": {
      "byteLimit": 2048000,
      "rowLimit": 10000
     },
     "inputWidgets": {},
     "nuid": "55b1716c-009b-434f-a560-d9c060b8ff45",
     "showTitle": false,
     "tableResultSettingsMap": {},
     "title": ""
    }
   },
   "outputs": [],
   "source": [
    "!qlik user me"
   ]
  },
  {
   "cell_type": "code",
   "execution_count": 0,
   "metadata": {
    "application/vnd.databricks.v1+cell": {
     "cellMetadata": {
      "byteLimit": 2048000,
      "rowLimit": 10000
     },
     "inputWidgets": {},
     "nuid": "ee67d803-2a7f-430e-b6d2-7bc21aba173f",
     "showTitle": false,
     "tableResultSettingsMap": {},
     "title": ""
    }
   },
   "outputs": [],
   "source": [
    "!ls /tmp/qlik"
   ]
  },
  {
   "cell_type": "code",
   "execution_count": 0,
   "metadata": {
    "application/vnd.databricks.v1+cell": {
     "cellMetadata": {
      "byteLimit": 2048000,
      "rowLimit": 10000
     },
     "inputWidgets": {},
     "nuid": "f30f8894-77ca-41d0-b94a-d34440ce0f40",
     "showTitle": false,
     "tableResultSettingsMap": {},
     "title": ""
    }
   },
   "outputs": [],
   "source": [
    "!cat /tmp/qlik/teste2.txt"
   ]
  },
  {
   "cell_type": "code",
   "execution_count": 0,
   "metadata": {
    "application/vnd.databricks.v1+cell": {
     "cellMetadata": {
      "byteLimit": 2048000,
      "rowLimit": 10000
     },
     "inputWidgets": {},
     "nuid": "a09cb9ac-173a-42a0-8a3f-4a1ca35ea27e",
     "showTitle": false,
     "tableResultSettingsMap": {},
     "title": ""
    }
   },
   "outputs": [],
   "source": [
    "! qlik user me"
   ]
  }
 ],
 "metadata": {
  "application/vnd.databricks.v1+notebook": {
   "computePreferences": null,
   "dashboards": [],
   "environmentMetadata": {
    "base_environment": "",
    "client": "1"
   },
   "language": "python",
   "notebookMetadata": {
    "mostRecentlyExecutedCommandWithImplicitDF": {
     "commandId": 1759898958802944,
     "dataframes": [
      "_sqldf"
     ]
    },
    "pythonIndentUnit": 4
   },
   "notebookName": "qlik-cli-ambiente-uso",
   "widgets": {}
  },
  "language_info": {
   "name": "python"
  }
 },
 "nbformat": 4,
 "nbformat_minor": 0
}
